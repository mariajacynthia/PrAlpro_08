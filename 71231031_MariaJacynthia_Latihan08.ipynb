{
 "cells": [
  {
   "cell_type": "code",
   "execution_count": 4,
   "metadata": {},
   "outputs": [
    {
     "name": "stdout",
     "output_type": "stream",
     "text": [
      "ohh ini isinya ini\n",
      "loh loh apaini isinya\n",
      "Kedua file memiliki perbedaan\n"
     ]
    }
   ],
   "source": [
    "#soal 8-1\n",
    "filesatu =  open ('inisatu.txt')\n",
    "filedua = open ('inidua.txt')\n",
    "hasilsatu = filesatu.read()\n",
    "hasildua = filedua.read()\n",
    "print (hasilsatu)\n",
    "print (hasildua)\n",
    "\n",
    "bedanya = []\n",
    "for i, (hasilsatu, hasildua) in enumerate(zip(hasilsatu, hasildua)):\n",
    "    if hasilsatu != hasildua:\n",
    "        bedanya = True\n",
    "\n",
    "if bedanya:\n",
    "    print(\"Kedua file memiliki perbedaan\")\n",
    "else:\n",
    "    print(\"Kedua file tidak memiliki perbedaan\")\n",
    "\n",
    "filesatu.close()\n",
    "filedua.close()"
   ]
  },
  {
   "cell_type": "code",
   "execution_count": 13,
   "metadata": {},
   "outputs": [
    {
     "name": "stdout",
     "output_type": "stream",
     "text": [
      "Nama file: soal.txt\n",
      "1+1 =\n",
      "Jawaban benar!\n",
      "Bendera Indonesia?\n",
      "Jawaban salah!\n",
      "Kota gudeg adalah:\n",
      "Jawaban benar!\n",
      "KomponenPC untuk penyimpanan file adalah...\n",
      "Jawaban salah!\n",
      "50 *20 =\n",
      "Jawaban benar!\n"
     ]
    }
   ],
   "source": [
    "#soal 8-2\n",
    "def pertanyaan(file_path):\n",
    "    soal = []\n",
    "    with open(file_path, 'r') as file:\n",
    "        for line in file:\n",
    "            pertanyaanlagi, jawaban = line.strip().split(\"||\")\n",
    "            soal.append((pertanyaanlagi.strip(), jawaban.strip()))\n",
    "    return soal\n",
    "\n",
    "def main():\n",
    "    file_path = \"soal.txt\"\n",
    "    soal = pertanyaan(file_path)\n",
    "    print(f\"Nama file: {file_path}\")\n",
    "\n",
    "    for _, (pertanyaanlagi, jawabbenar) in enumerate(soal, start=1):\n",
    "        print(f\"{pertanyaanlagi}\")\n",
    "        jawabanuser = input(\"Jawab: \").strip().lower()\n",
    "        if jawabanuser == jawabbenar.lower():\n",
    "            print(\"Jawaban benar!\")\n",
    "        else:\n",
    "            print(\"Jawaban salah!\")\n",
    "\n",
    "if __name__ == \"__main__\":\n",
    "    main()"
   ]
  }
 ],
 "metadata": {
  "kernelspec": {
   "display_name": "Python 3",
   "language": "python",
   "name": "python3"
  },
  "language_info": {
   "codemirror_mode": {
    "name": "ipython",
    "version": 3
   },
   "file_extension": ".py",
   "mimetype": "text/x-python",
   "name": "python",
   "nbconvert_exporter": "python",
   "pygments_lexer": "ipython3",
   "version": "3.12.0"
  }
 },
 "nbformat": 4,
 "nbformat_minor": 2
}
